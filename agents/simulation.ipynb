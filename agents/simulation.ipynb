{
 "cells": [
  {
   "cell_type": "code",
   "execution_count": 8,
   "metadata": {},
   "outputs": [],
   "source": [
    "import subprocess\n",
    "from rag import load_model, load_data, inference\n",
    "from IPython.display import Markdown, display\n"
   ]
  },
  {
   "cell_type": "code",
   "execution_count": 4,
   "metadata": {},
   "outputs": [
    {
     "name": "stderr",
     "output_type": "stream",
     "text": [
      "Parsing nodes: 100%|██████████| 3/3 [00:00<00:00, 64.76it/s]\n",
      "Generating embeddings: 100%|██████████| 3/3 [00:02<00:00,  1.45it/s]\n",
      "Parsing nodes: 100%|██████████| 3/3 [00:00<00:00, 1962.09it/s]\n",
      "Generating embeddings: 100%|██████████| 3/3 [00:00<00:00,  4.23it/s]\n",
      "Parsing nodes: 100%|██████████| 3/3 [00:00<00:00, 2594.95it/s]\n",
      "Generating embeddings: 100%|██████████| 3/3 [00:00<00:00,  4.02it/s]\n"
     ]
    }
   ],
   "source": [
    "harvey, harvey_embed = load_model()\n",
    "litt, litt_embed = load_model()\n",
    "judge, judge_embed = load_model()\n",
    "\n",
    "harvey_engine = load_data(harvey, harvey_embed)\n",
    "litt_engine = load_data(litt, litt_embed)\n",
    "judge_engine = load_data(judge, judge_embed)"
   ]
  },
  {
   "cell_type": "code",
   "execution_count": 5,
   "metadata": {},
   "outputs": [
    {
     "name": "stdout",
     "output_type": "stream",
     "text": [
      "Epoch 1: <IPython.core.display.Markdown object>\n",
      "Epoch 2: <IPython.core.display.Markdown object>\n",
      "Epoch 3: <IPython.core.display.Markdown object>\n",
      "Epoch 4: <IPython.core.display.Markdown object>\n",
      "Epoch 5: <IPython.core.display.Markdown object>\n",
      "Epoch 6: <IPython.core.display.Markdown object>\n",
      "Epoch 7: <IPython.core.display.Markdown object>\n",
      "Epoch 8: <IPython.core.display.Markdown object>\n",
      "Epoch 9: <IPython.core.display.Markdown object>\n",
      "Epoch 10: <IPython.core.display.Markdown object>\n",
      "<IPython.core.display.Markdown object>\n"
     ]
    }
   ],
   "source": [
    "epoch = 10\n",
    "\n",
    "initial_case = \"I think that my apartment is the best apartment in the world\"\n",
    "\n",
    "for i in range(epoch):\n",
    "    prosecutor_prompt = f\"Create atleast 10 of the best rebuttal arguments to each of the following arguments: {initial_case}\"\n",
    "    prosecutor_response = inference(litt_engine, prosecutor_prompt)\n",
    "    judge_prompt = f\"Look through every argument and using prior knowledge, determine if each argument is valid or invalid. Only output the valid arguments: {prosecutor_response}\"\n",
    "    judge_response = inference(judge_engine, judge_prompt)\n",
    "    harvey_prompt = f\"Create rebuttals that directly addresses each of the following arguments: {judge_response}\"\n",
    "    harvey_response = inference(harvey_engine, harvey_prompt)\n",
    "    initial_case = harvey_response\n",
    "    print(f\"Epoch {i+1}: {harvey_response}\")\n",
    "\n",
    "\n",
    "print(initial_case)"
   ]
  },
  {
   "cell_type": "code",
   "execution_count": 16,
   "metadata": {},
   "outputs": [
    {
     "ename": "TypeError",
     "evalue": "Markdown expects text, not <IPython.core.display.Markdown object>",
     "output_type": "error",
     "traceback": [
      "\u001b[0;31m---------------------------------------------------------------------------\u001b[0m",
      "\u001b[0;31mTypeError\u001b[0m                                 Traceback (most recent call last)",
      "Cell \u001b[0;32mIn[16], line 2\u001b[0m\n\u001b[1;32m      1\u001b[0m initial_case_str \u001b[38;5;241m=\u001b[39m \u001b[38;5;28mstr\u001b[39m(initial_case)\n\u001b[0;32m----> 2\u001b[0m display(\u001b[43mMarkdown\u001b[49m\u001b[43m(\u001b[49m\u001b[43minitial_case\u001b[49m\u001b[43m)\u001b[49m)\n",
      "File \u001b[0;32m~/Library/Mobile Documents/com~apple~CloudDocs/Coding/Lawmma/.venv/lib/python3.12/site-packages/IPython/core/display.py:371\u001b[0m, in \u001b[0;36mDisplayObject.__init__\u001b[0;34m(self, data, url, filename, metadata)\u001b[0m\n\u001b[1;32m    368\u001b[0m     \u001b[38;5;28mself\u001b[39m\u001b[38;5;241m.\u001b[39mmetadata \u001b[38;5;241m=\u001b[39m {}\n\u001b[1;32m    370\u001b[0m \u001b[38;5;28mself\u001b[39m\u001b[38;5;241m.\u001b[39mreload()\n\u001b[0;32m--> 371\u001b[0m \u001b[38;5;28;43mself\u001b[39;49m\u001b[38;5;241;43m.\u001b[39;49m\u001b[43m_check_data\u001b[49m\u001b[43m(\u001b[49m\u001b[43m)\u001b[49m\n",
      "File \u001b[0;32m~/Library/Mobile Documents/com~apple~CloudDocs/Coding/Lawmma/.venv/lib/python3.12/site-packages/IPython/core/display.py:450\u001b[0m, in \u001b[0;36mTextDisplayObject._check_data\u001b[0;34m(self)\u001b[0m\n\u001b[1;32m    448\u001b[0m \u001b[38;5;28;01mdef\u001b[39;00m \u001b[38;5;21m_check_data\u001b[39m(\u001b[38;5;28mself\u001b[39m):\n\u001b[1;32m    449\u001b[0m     \u001b[38;5;28;01mif\u001b[39;00m \u001b[38;5;28mself\u001b[39m\u001b[38;5;241m.\u001b[39mdata \u001b[38;5;129;01mis\u001b[39;00m \u001b[38;5;129;01mnot\u001b[39;00m \u001b[38;5;28;01mNone\u001b[39;00m \u001b[38;5;129;01mand\u001b[39;00m \u001b[38;5;129;01mnot\u001b[39;00m \u001b[38;5;28misinstance\u001b[39m(\u001b[38;5;28mself\u001b[39m\u001b[38;5;241m.\u001b[39mdata, \u001b[38;5;28mstr\u001b[39m):\n\u001b[0;32m--> 450\u001b[0m         \u001b[38;5;28;01mraise\u001b[39;00m \u001b[38;5;167;01mTypeError\u001b[39;00m(\u001b[38;5;124m\"\u001b[39m\u001b[38;5;132;01m%s\u001b[39;00m\u001b[38;5;124m expects text, not \u001b[39m\u001b[38;5;132;01m%r\u001b[39;00m\u001b[38;5;124m\"\u001b[39m \u001b[38;5;241m%\u001b[39m (\u001b[38;5;28mself\u001b[39m\u001b[38;5;241m.\u001b[39m\u001b[38;5;18m__class__\u001b[39m\u001b[38;5;241m.\u001b[39m\u001b[38;5;18m__name__\u001b[39m, \u001b[38;5;28mself\u001b[39m\u001b[38;5;241m.\u001b[39mdata))\n",
      "\u001b[0;31mTypeError\u001b[0m: Markdown expects text, not <IPython.core.display.Markdown object>"
     ]
    }
   ],
   "source": [
    "initial_case_str = str(initial_case)\n",
    "display(Markdown(initial_case))"
   ]
  },
  {
   "cell_type": "code",
   "execution_count": null,
   "metadata": {},
   "outputs": [],
   "source": []
  },
  {
   "cell_type": "code",
   "execution_count": null,
   "metadata": {},
   "outputs": [],
   "source": []
  },
  {
   "cell_type": "code",
   "execution_count": null,
   "metadata": {},
   "outputs": [],
   "source": []
  }
 ],
 "metadata": {
  "kernelspec": {
   "display_name": ".venv",
   "language": "python",
   "name": "python3"
  },
  "language_info": {
   "codemirror_mode": {
    "name": "ipython",
    "version": 3
   },
   "file_extension": ".py",
   "mimetype": "text/x-python",
   "name": "python",
   "nbconvert_exporter": "python",
   "pygments_lexer": "ipython3",
   "version": "3.12.4"
  }
 },
 "nbformat": 4,
 "nbformat_minor": 2
}
