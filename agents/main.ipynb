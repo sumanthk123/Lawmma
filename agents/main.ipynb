{
 "cells": [
  {
   "attachments": {},
   "cell_type": "markdown",
   "metadata": {},
   "source": [
    "# RAG using Meta AI Llama-3\n",
    "\n",
    "\n",
    "<img src=\"./resources/rag_architecture.png\" width=800px>"
   ]
  },
  {
   "cell_type": "code",
   "execution_count": 2,
   "metadata": {
    "ExecuteTime": {
     "end_time": "2024-11-02T04:52:17.914815Z",
     "start_time": "2024-11-02T04:52:14.932760Z"
    }
   },
   "outputs": [
    {
     "name": "stderr",
     "output_type": "stream",
     "text": [
      "/Users/sumanthkalluru/Library/Mobile Documents/com~apple~CloudDocs/Coding/Lawmma/.venv/lib/python3.12/site-packages/tqdm/auto.py:21: TqdmWarning: IProgress not found. Please update jupyter and ipywidgets. See https://ipywidgets.readthedocs.io/en/stable/user_install.html\n",
      "  from .autonotebook import tqdm as notebook_tqdm\n"
     ]
    }
   ],
   "source": [
    "import nest_asyncio\n",
    "from dotenv import load_dotenv\n",
    "from IPython.display import Markdown, display\n",
    "\n",
    "from llama_index.core import Settings\n",
    "from llama_index.llms.ollama import Ollama\n",
    "from llama_index.core import PromptTemplate\n",
    "from llama_index.embeddings.huggingface import HuggingFaceEmbedding\n",
    "from llama_index.core import VectorStoreIndex, ServiceContext, SimpleDirectoryReader"
   ]
  },
  {
   "cell_type": "code",
   "execution_count": 3,
   "metadata": {
    "ExecuteTime": {
     "end_time": "2024-11-02T04:52:17.918834Z",
     "start_time": "2024-11-02T04:52:17.915699Z"
    }
   },
   "outputs": [],
   "source": [
    "# allows nested access to the event loop\n",
    "nest_asyncio.apply()"
   ]
  },
  {
   "cell_type": "code",
   "execution_count": 4,
   "metadata": {
    "ExecuteTime": {
     "end_time": "2024-11-02T04:52:17.921644Z",
     "start_time": "2024-11-02T04:52:17.917870Z"
    }
   },
   "outputs": [],
   "source": [
    "# add your documents in this directory, you can drag & drop\n",
    "input_dir_path = './documents'"
   ]
  },
  {
   "cell_type": "code",
   "execution_count": 13,
   "metadata": {
    "ExecuteTime": {
     "end_time": "2024-11-02T04:52:20.439256Z",
     "start_time": "2024-11-02T04:52:17.943111Z"
    }
   },
   "outputs": [],
   "source": [
    "\n",
    "# setup llm & embedding model\n",
    "def load_model():\n",
    "    llm=Ollama(model=\"hf.co/bartowski/Llama-3.2-3B-Instruct-GGUF:latest\", request_timeout=120.0)\n",
    "    # embed_model = HuggingFaceEmbedding( model_name=\"Snowflake/snowflake-arctic-embed-m\", trust_remote_code=True)\n",
    "    embed_model = HuggingFaceEmbedding( model_name=\"BAAI/bge-large-en-v1.5\", trust_remote_code=True)\n",
    "    return llm, embed_model"
   ]
  },
  {
   "cell_type": "code",
   "execution_count": 16,
   "metadata": {
    "ExecuteTime": {
     "end_time": "2024-11-02T04:52:21.051010Z",
     "start_time": "2024-11-02T04:52:20.440300Z"
    }
   },
   "outputs": [
    {
     "name": "stderr",
     "output_type": "stream",
     "text": [
      "Parsing nodes: 100%|██████████| 2/2 [00:00<00:00, 56.26it/s]\n",
      "Generating embeddings: 100%|██████████| 2/2 [00:06<00:00,  3.34s/it]\n"
     ]
    }
   ],
   "source": [
    "# load data\n",
    "def load_data(llm, embed_model):\n",
    "    loader = SimpleDirectoryReader(\n",
    "                input_dir = input_dir_path,\n",
    "                required_exts=[\".pdf\"],\n",
    "                recursive=True\n",
    "            )\n",
    "    docs = loader.load_data()\n",
    "\n",
    "    # Creating an index over loaded data\n",
    "    Settings.embed_model = embed_model\n",
    "    index = VectorStoreIndex.from_documents(docs, show_progress=True)\n",
    "\n",
    "    # Create the query engine, where we use a cohere reranker on the fetched nodes\n",
    "    Settings.llm = llm\n",
    "    query_engine = index.as_query_engine()\n",
    "\n",
    "    # ====== Customise prompt template ======\n",
    "    qa_prompt_tmpl_str = (\n",
    "    \"Context information is below.\\n\"\n",
    "    \"---------------------\\n\"\n",
    "    \"{context_str}\\n\"\n",
    "    \"---------------------\\n\"\n",
    "    \"Given the context information above I want you to think step by step to answer the query in a crisp manner, incase case you don't know the answer say 'I don't know!'.\\n\"\n",
    "    \"Query: {query_str}\\n\"\n",
    "    \"Answer: \"\n",
    "    )\n",
    "    qa_prompt_tmpl = PromptTemplate(qa_prompt_tmpl_str)\n",
    "\n",
    "    query_engine.update_prompts(\n",
    "        {\"response_synthesizer:text_qa_template\": qa_prompt_tmpl}\n",
    "    )\n",
    "    return query_engine\n",
    "\n",
    "# Generate the response"
   ]
  },
  {
   "cell_type": "code",
   "execution_count": 17,
   "metadata": {
    "ExecuteTime": {
     "end_time": "2024-11-02T04:52:29.634685Z",
     "start_time": "2024-11-02T04:52:21.053883Z"
    }
   },
   "outputs": [
    {
     "data": {
      "text/markdown": [
       "After analyzing the experience sections of both resumes, I found that the overlap in experiences between Sumanth Kalluru and Yash V Saxena is:\n",
       "\n",
       "* Software Engineering Intern roles:\n",
       "\t+ Sumanth at Wiweeki (June 2024 - August 2024) and Disruption Lab at Gies (August 2023 - June 2024)\n",
       "\t+ Yash at Super (May 2024 – August 2024) and Meta (May 2025 - August 2025)\n",
       "\n",
       "Additionally, both Sumanth and Yash have experience as Software Engineers/Technology Leads/Product Managers, although the specific company names and roles are different.\n",
       "\n",
       "I don't know if there's any further overlap in other areas."
      ],
      "text/plain": [
       "<IPython.core.display.Markdown object>"
      ]
     },
     "metadata": {},
     "output_type": "display_data"
    }
   ],
   "source": [
    "def inference(query_engine):\n",
    "    response = query_engine.query(\"Where is the overlap in experiences between Sumanth and Yash\")\n",
    "    return Markdown(str(response))\n",
    "    # display(Markdown(str(response)))"
   ]
  },
  {
   "cell_type": "code",
   "execution_count": 7,
   "metadata": {
    "ExecuteTime": {
     "end_time": "2024-11-02T04:52:29.781955Z",
     "start_time": "2024-11-02T04:52:29.621851Z"
    }
   },
   "outputs": [
    {
     "name": "stdout",
     "output_type": "stream",
     "text": [
      "zsh:1: command not found: nvidia-smi\r\n"
     ]
    },
    {
     "name": "stderr",
     "output_type": "stream",
     "text": [
      "huggingface/tokenizers: The current process just got forked, after parallelism has already been used. Disabling parallelism to avoid deadlocks...\n",
      "To disable this warning, you can either:\n",
      "\t- Avoid using `tokenizers` before the fork if possible\n",
      "\t- Explicitly set the environment variable TOKENIZERS_PARALLELISM=(true | false)\n"
     ]
    }
   ],
   "source": [
    "# check GPU usage\n",
    "\n",
    "!nvidia-smi"
   ]
  },
  {
   "cell_type": "code",
   "execution_count": 7,
   "metadata": {
    "ExecuteTime": {
     "end_time": "2024-11-02T04:52:29.782448Z",
     "start_time": "2024-11-02T04:52:29.769206Z"
    }
   },
   "outputs": [],
   "source": []
  }
 ],
 "metadata": {
  "kernelspec": {
   "display_name": "Python 3",
   "language": "python",
   "name": "python3"
  },
  "language_info": {
   "codemirror_mode": {
    "name": "ipython",
    "version": 3
   },
   "file_extension": ".py",
   "mimetype": "text/x-python",
   "name": "python",
   "nbconvert_exporter": "python",
   "pygments_lexer": "ipython3",
   "version": "3.12.4"
  }
 },
 "nbformat": 4,
 "nbformat_minor": 4
}
